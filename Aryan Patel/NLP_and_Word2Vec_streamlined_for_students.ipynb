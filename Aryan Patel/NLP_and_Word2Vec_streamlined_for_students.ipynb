{
 "cells": [
  {
   "cell_type": "markdown",
   "metadata": {
    "collapsed": false
   },
   "source": [
    "# Natural Language Processing using NLTK"
   ]
  },
  {
   "cell_type": "markdown",
   "metadata": {
    "collapsed": false
   },
   "source": [
   ]
  },
  {
   "cell_type": "code",
   "execution_count": 190,
   "metadata": {
    "collapsed": false
   },
   "outputs": [
    {
     "name": "stderr",
     "output_type": "stream",
     "text": [
      "[nltk_data] Downloading package wordnet to /projects/f383c9fb-5c0c-448\n",
      "[nltk_data]     3-b8ae-54082ad4cf54/nltk_data...\n",
      "[nltk_data]   Package wordnet is already up-to-date!\n",
      "[nltk_data] Downloading package punkt to /projects/f383c9fb-5c0c-4483-\n",
      "[nltk_data]     b8ae-54082ad4cf54/nltk_data...\n",
      "[nltk_data]   Package punkt is already up-to-date!\n"
     ]
    },
    {
     "data": {
      "text/plain": [
       "True"
      ]
     },
     "execution_count": 190,
     "metadata": {
     },
     "output_type": "execute_result"
    }
   ],
   "source": [
    "# Install NLTK - pip install nltk\n",
    "import nltk\n",
    "nltk.download('wordnet')\n",
    "nltk.download('punkt')"
   ]
  },
  {
   "cell_type": "code",
   "execution_count": 0,
   "metadata": {
    "collapsed": false
   },
   "outputs": [
   ],
   "source": [
   ]
  },
  {
   "cell_type": "markdown",
   "metadata": {
    "collapsed": false
   },
   "source": [
    "## NLP Part 0 - Get some Data!\n",
    "\n",
    "This section's code is mostly given to you as a review for how you can scrape and manipulate data from the web. \n",
    "\n"
   ]
  },
  {
   "cell_type": "code",
   "execution_count": 191,
   "metadata": {
    "collapsed": false
   },
   "outputs": [
   ],
   "source": [
    "import urllib\n",
    "import bs4 as bs\n",
    "import re"
   ]
  },
  {
   "cell_type": "code",
   "execution_count": 192,
   "metadata": {
    "collapsed": false
   },
   "outputs": [
   ],
   "source": [
    "# We will read the contents of the Wikipedia article \"Global_warming\" as an example, please feel free to use your own! You can use the url below:\n",
    "url = 'https://www.ranker.com/list/kirby-fan-theories/mick-jacobs' # you can change this to use other sites as well.\n",
    "\n",
    "# We can open the page using \"urllib.request.urlopen\" then read it using \".read()\"\n",
    "source = urllib.request.urlopen(url).read()\n",
    "\n",
    "# Beautiful Soup is a Python library for pulling data out of HTML and XML files.\n",
    "# you may need to install a parser library --> \"!pip3 install lxml\"\n",
    "# Parsing the data/creating BeautifulSoup object\n",
    "\n",
    "soup = bs.BeautifulSoup(source,\"html.parser\") \n",
    "\n",
    "# Fetching the data\n",
    "text = \"\"\n",
    "for paragraph in soup.find_all('p'): #The <p> tag defines a paragraph in the webpages\n",
    "    text += paragraph.text\n",
    "\n",
    "# Preprocessing the data\n",
    "\n",
    "text = re.sub(r'\\[[0-9]*\\]',' ',text) # [0-9]* --> Matches zero or more repetitions of any digit from 0 to 9\n",
    "text = text.lower() #everything to lowercase\n",
    "text = re.sub(r'\\W^.?!',' ',text) # \\W --> Matches any character which is not a word character except (.?!)\n",
    "text = re.sub(r'\\d',' ',text) # \\d --> Matches any decimal digit\n",
    "text = re.sub(r'\\s+',' ',text) # \\s --> Matches any characters that are considered whitespace (Ex: [\\t\\n\\r\\f\\v].)"
   ]
  },
  {
   "cell_type": "code",
   "execution_count": 193,
   "metadata": {
    "collapsed": false
   },
   "outputs": [
    {
     "data": {
      "text/plain": [
       "'even among the typically lighthearted and adorable world of nintendo, kirby stands out as one of the'"
      ]
     },
     "execution_count": 193,
     "metadata": {
     },
     "output_type": "execute_result"
    }
   ],
   "source": [
    "text[:100]"
   ]
  },
  {
   "cell_type": "markdown",
   "metadata": {
    "collapsed": false
   },
   "source": [
    "## NLP Part 1 - Tokenization of paragraphs/sentences\n",
    "\n",
    "In this section we are going to tokenize our sentences and words. If you aren't familiar with tokenization, we recommend looking up \"what is tokenization\". \n",
    "\n",
    "You should also spend time on the [NLTK documentation](https://www.nltk.org/). If you're not sure how to do something, or get an error, it is best to google it first and ask questions as you go!\n",
    "\n"
   ]
  },
  {
   "cell_type": "code",
   "execution_count": 194,
   "metadata": {
    "collapsed": false
   },
   "outputs": [
    {
     "data": {
      "text/plain": [
       "['even',\n",
       " 'among',\n",
       " 'the',\n",
       " 'typically',\n",
       " 'lighthearted',\n",
       " 'and',\n",
       " 'adorable',\n",
       " 'world',\n",
       " 'of',\n",
       " 'nintendo',\n",
       " ',',\n",
       " 'kirby',\n",
       " 'stands',\n",
       " 'out',\n",
       " 'as',\n",
       " 'one',\n",
       " 'of',\n",
       " 'the',\n",
       " 'most',\n",
       " 'innocuous',\n",
       " 'characters',\n",
       " 'and',\n",
       " 'series',\n",
       " '.',\n",
       " 'but',\n",
       " 'if',\n",
       " 'you',\n",
       " 'dig',\n",
       " 'a',\n",
       " 'little',\n",
       " 'deeper',\n",
       " 'and',\n",
       " 'consider',\n",
       " 'a',\n",
       " 'few',\n",
       " 'fan',\n",
       " 'theories',\n",
       " 'about',\n",
       " 'kirby',\n",
       " ',',\n",
       " 'you',\n",
       " 'start',\n",
       " 'to',\n",
       " 'realize',\n",
       " 'there',\n",
       " \"'s\",\n",
       " 'more',\n",
       " 'to',\n",
       " 'the',\n",
       " 'pink',\n",
       " 'than',\n",
       " 'you',\n",
       " 'think.for',\n",
       " 'one',\n",
       " 'thing',\n",
       " ',',\n",
       " 'kirby',\n",
       " 'stands',\n",
       " 'as',\n",
       " 'the',\n",
       " 'only',\n",
       " 'character',\n",
       " '-',\n",
       " 'nintendo',\n",
       " 'or',\n",
       " 'otherwise',\n",
       " '-',\n",
       " 'who',\n",
       " 'survives',\n",
       " 'the',\n",
       " 'world',\n",
       " 'of',\n",
       " 'light',\n",
       " 'attack',\n",
       " 'in',\n",
       " 'smash',\n",
       " 'bros',\n",
       " 'ultimate',\n",
       " ',',\n",
       " 'suggesting',\n",
       " 'he',\n",
       " 'could',\n",
       " 'possess',\n",
       " 'more',\n",
       " 'power',\n",
       " 'and/or',\n",
       " 'significance',\n",
       " 'than',\n",
       " 'many',\n",
       " 'might',\n",
       " 'assume',\n",
       " '.',\n",
       " 'many',\n",
       " 'kirby',\n",
       " 'fan',\n",
       " 'theories',\n",
       " 'also',\n",
       " 'posit',\n",
       " 'the',\n",
       " 'pink',\n",
       " 'hero',\n",
       " 'is',\n",
       " 'actually',\n",
       " 'a',\n",
       " 'nefarious',\n",
       " 'character',\n",
       " 'with',\n",
       " 'mean',\n",
       " 'streak',\n",
       " 'hidden',\n",
       " 'behind',\n",
       " 'his',\n",
       " 'squishy',\n",
       " 'exterior',\n",
       " '.',\n",
       " 'as',\n",
       " 'with',\n",
       " 'most',\n",
       " 'video',\n",
       " 'game',\n",
       " 'fan',\n",
       " 'theories',\n",
       " ',',\n",
       " 'plenty',\n",
       " 'of',\n",
       " 'the',\n",
       " 'best',\n",
       " 'suppositions',\n",
       " 'hold',\n",
       " 'enough',\n",
       " 'water',\n",
       " 'to',\n",
       " 'be',\n",
       " 'considered',\n",
       " 'very',\n",
       " 'likely',\n",
       " 'possibilities.it',\n",
       " \"'s\",\n",
       " 'time',\n",
       " 'to',\n",
       " 'make',\n",
       " 'a',\n",
       " 'return',\n",
       " 'to',\n",
       " 'dreamland',\n",
       " 'and',\n",
       " 'find',\n",
       " 'out',\n",
       " 'how',\n",
       " 'much',\n",
       " 'of',\n",
       " 'a',\n",
       " 'nightmare',\n",
       " 'it',\n",
       " 'may',\n",
       " 'be.from',\n",
       " 'redditor',\n",
       " '/u/bulbmin',\n",
       " ':',\n",
       " 'this',\n",
       " 'is',\n",
       " 'not',\n",
       " 'me',\n",
       " 'saying',\n",
       " ',',\n",
       " 'this',\n",
       " 'is',\n",
       " 'sakurai',\n",
       " '’',\n",
       " 's',\n",
       " 'word',\n",
       " '.',\n",
       " 'i',\n",
       " 'originally',\n",
       " 'thought',\n",
       " 'it',\n",
       " 'was',\n",
       " 'just',\n",
       " 'bias',\n",
       " 'because',\n",
       " 'sakurai',\n",
       " 'is',\n",
       " 'the',\n",
       " 'creator',\n",
       " 'of',\n",
       " 'kirby',\n",
       " ',',\n",
       " 'but',\n",
       " 'it',\n",
       " 'turns',\n",
       " 'out',\n",
       " 'he',\n",
       " 'actually',\n",
       " 'knows',\n",
       " 'quite',\n",
       " 'a',\n",
       " 'bit',\n",
       " 'of',\n",
       " 'the',\n",
       " 'power',\n",
       " 'scaling',\n",
       " 'lore',\n",
       " 'of',\n",
       " 'the',\n",
       " 'characters.he',\n",
       " 'says',\n",
       " 'that',\n",
       " 'kirby',\n",
       " '’',\n",
       " 's',\n",
       " 'warp',\n",
       " 'star',\n",
       " 'is',\n",
       " 'able',\n",
       " 'to',\n",
       " 'defy',\n",
       " 'physics',\n",
       " 'and',\n",
       " 'warp',\n",
       " 'outside',\n",
       " 'of',\n",
       " 'galaxies',\n",
       " 'since',\n",
       " 'the',\n",
       " 'first',\n",
       " 'game',\n",
       " ',',\n",
       " 'which',\n",
       " 'is',\n",
       " 'something',\n",
       " 'that',\n",
       " 'funnily',\n",
       " 'enough',\n",
       " 'i',\n",
       " 'don',\n",
       " '’',\n",
       " 't',\n",
       " 'remember',\n",
       " 'ever',\n",
       " 'being',\n",
       " 'confirmed',\n",
       " 'before',\n",
       " '.',\n",
       " 'i',\n",
       " 'mean',\n",
       " ',',\n",
       " 'it',\n",
       " '’',\n",
       " 's',\n",
       " 'obviously',\n",
       " 'in',\n",
       " 'the',\n",
       " 'name',\n",
       " ',',\n",
       " 'but',\n",
       " 'all',\n",
       " 'of',\n",
       " 'the',\n",
       " 'warp',\n",
       " 'star',\n",
       " 'speed',\n",
       " 'feats',\n",
       " 'just',\n",
       " 'show',\n",
       " 'it',\n",
       " 'moving',\n",
       " 'really',\n",
       " 'fast',\n",
       " 'rather',\n",
       " 'than',\n",
       " 'warping',\n",
       " '.',\n",
       " 'since',\n",
       " 'sakurai',\n",
       " 'is',\n",
       " 'the',\n",
       " 'creator',\n",
       " 'of',\n",
       " 'the',\n",
       " 'series',\n",
       " ',',\n",
       " 'that',\n",
       " '’',\n",
       " 's',\n",
       " 'a',\n",
       " 'source',\n",
       " 'as',\n",
       " 'reliable',\n",
       " 'as',\n",
       " 'possible',\n",
       " '.',\n",
       " 'so',\n",
       " 'not',\n",
       " 'only',\n",
       " 'the',\n",
       " 'warp',\n",
       " 'star',\n",
       " 'moves',\n",
       " 'ftl',\n",
       " ',',\n",
       " 'but',\n",
       " 'it',\n",
       " '’',\n",
       " 's',\n",
       " 'also',\n",
       " 'able',\n",
       " 'to',\n",
       " 'make',\n",
       " 'instant',\n",
       " 'travel',\n",
       " '.',\n",
       " 'neat.another',\n",
       " 'interesting',\n",
       " 'thing',\n",
       " 'he',\n",
       " 'says',\n",
       " 'is',\n",
       " 'that',\n",
       " 'the',\n",
       " 'other',\n",
       " 'two',\n",
       " 'contenders',\n",
       " 'for',\n",
       " 'survivability',\n",
       " 'were',\n",
       " 'bayonetta',\n",
       " 'and',\n",
       " 'palutena',\n",
       " '.',\n",
       " 'he',\n",
       " 'says',\n",
       " 'that',\n",
       " 'bayonetta',\n",
       " 'could',\n",
       " 'escape',\n",
       " 'with',\n",
       " 'help',\n",
       " 'of',\n",
       " 'the',\n",
       " 'enemies',\n",
       " 'from',\n",
       " 'the',\n",
       " 'purgatorio',\n",
       " ',',\n",
       " 'while',\n",
       " 'palutena',\n",
       " 'could',\n",
       " 'survive',\n",
       " 'with',\n",
       " 'the',\n",
       " 'help',\n",
       " 'of',\n",
       " 'hades',\n",
       " '.',\n",
       " 'not',\n",
       " 'sure',\n",
       " 'how',\n",
       " 'those',\n",
       " 'methods',\n",
       " 'would',\n",
       " 'work',\n",
       " 'since',\n",
       " 'i',\n",
       " '’',\n",
       " 've',\n",
       " 'never',\n",
       " 'played',\n",
       " 'the',\n",
       " 'games',\n",
       " ',',\n",
       " 'so',\n",
       " 'someone',\n",
       " 'with',\n",
       " 'better',\n",
       " 'knowledge',\n",
       " 'could',\n",
       " 'evaluate',\n",
       " 'that',\n",
       " '.',\n",
       " 'that',\n",
       " 'means',\n",
       " 'rosalina',\n",
       " 'couldn',\n",
       " '’',\n",
       " 't',\n",
       " 'escape',\n",
       " 'the',\n",
       " 'attack',\n",
       " ',',\n",
       " 'so',\n",
       " 'the',\n",
       " 'launch',\n",
       " 'stars',\n",
       " 'aren',\n",
       " '’',\n",
       " 't',\n",
       " 'able',\n",
       " 'to',\n",
       " 'send',\n",
       " 'targets',\n",
       " 'outside',\n",
       " 'of',\n",
       " 'galaxies',\n",
       " '.',\n",
       " 'and',\n",
       " 'of',\n",
       " 'course',\n",
       " ',',\n",
       " 'everyone',\n",
       " 'else',\n",
       " 'is',\n",
       " 'toast',\n",
       " 'too.the',\n",
       " 'fifth',\n",
       " 'level',\n",
       " 'of',\n",
       " 'kirby',\n",
       " 'and',\n",
       " 'the',\n",
       " 'crystal',\n",
       " 'shards',\n",
       " 'takes',\n",
       " 'the',\n",
       " 'protagonist',\n",
       " 'to',\n",
       " 'shiver',\n",
       " 'star',\n",
       " '.',\n",
       " 'on',\n",
       " 'its',\n",
       " 'surface',\n",
       " ',',\n",
       " 'shiver',\n",
       " 'star',\n",
       " 'features',\n",
       " 'the',\n",
       " 'expected',\n",
       " 'snow',\n",
       " 'and',\n",
       " 'ice',\n",
       " ',',\n",
       " 'but',\n",
       " 'kirby',\n",
       " 'only',\n",
       " 'spends',\n",
       " 'a',\n",
       " 'little',\n",
       " 'time',\n",
       " 'there',\n",
       " 'before',\n",
       " 'descending',\n",
       " 'into',\n",
       " 'the',\n",
       " 'planet',\n",
       " '.',\n",
       " 'within',\n",
       " 'the',\n",
       " 'planet',\n",
       " ',',\n",
       " 'kirby',\n",
       " 'comes',\n",
       " 'across',\n",
       " 'large',\n",
       " ',',\n",
       " 'autonomous',\n",
       " 'factories',\n",
       " 'as',\n",
       " 'well',\n",
       " 'as',\n",
       " 'a',\n",
       " 'shopping',\n",
       " 'mall',\n",
       " ',',\n",
       " 'though',\n",
       " 'no',\n",
       " 'one',\n",
       " 'appears',\n",
       " 'to',\n",
       " 'be',\n",
       " 'operating',\n",
       " 'or',\n",
       " 'inhabiting',\n",
       " 'these',\n",
       " 'areas',\n",
       " 'sans',\n",
       " 'your',\n",
       " 'expected',\n",
       " 'monsters',\n",
       " '.',\n",
       " 'as',\n",
       " 'he',\n",
       " 'passes',\n",
       " 'through',\n",
       " 'the',\n",
       " 'factory',\n",
       " 'levels',\n",
       " ',',\n",
       " 'kirby',\n",
       " 'comes',\n",
       " 'across',\n",
       " 'pictures',\n",
       " 'of',\n",
       " 'animals',\n",
       " 'from',\n",
       " 'earth.the',\n",
       " 'geography',\n",
       " 'of',\n",
       " 'shiver',\n",
       " 'star',\n",
       " 'closely',\n",
       " 'resembles',\n",
       " 'that',\n",
       " 'of',\n",
       " 'earth',\n",
       " ',',\n",
       " 'albeit',\n",
       " 'in',\n",
       " 'gray',\n",
       " 'and',\n",
       " 'white',\n",
       " ',',\n",
       " 'and',\n",
       " 'fans',\n",
       " 'suggest',\n",
       " 'the',\n",
       " 'icy',\n",
       " 'layers',\n",
       " 'are',\n",
       " 'the',\n",
       " 'result',\n",
       " 'of',\n",
       " 'a',\n",
       " 'nuclear',\n",
       " 'winter',\n",
       " '.',\n",
       " 'if',\n",
       " 'this',\n",
       " 'is',\n",
       " 'the',\n",
       " 'case',\n",
       " ',',\n",
       " 'it',\n",
       " 'means',\n",
       " 'kirby',\n",
       " 'not',\n",
       " 'only',\n",
       " 'takes',\n",
       " 'place',\n",
       " 'in',\n",
       " 'the',\n",
       " 'real',\n",
       " 'world',\n",
       " ',',\n",
       " 'but',\n",
       " 'it',\n",
       " \"'s\",\n",
       " 'also',\n",
       " 'many',\n",
       " 'millennia',\n",
       " 'after',\n",
       " 'humans',\n",
       " 'have',\n",
       " 'died',\n",
       " 'out.kirby',\n",
       " 'is',\n",
       " 'most',\n",
       " 'famous',\n",
       " 'for',\n",
       " 'his',\n",
       " 'inhale',\n",
       " 'ability',\n",
       " ',',\n",
       " 'allowing',\n",
       " 'him',\n",
       " 'to',\n",
       " 'consume',\n",
       " 'nearly',\n",
       " 'limitless',\n",
       " 'amounts',\n",
       " 'of',\n",
       " 'food',\n",
       " 'and',\n",
       " 'foes',\n",
       " 'and',\n",
       " 'even',\n",
       " 'copy',\n",
       " 'their',\n",
       " 'abilities',\n",
       " '.',\n",
       " 'because',\n",
       " 'of',\n",
       " 'this',\n",
       " ',',\n",
       " 'some',\n",
       " 'theorize',\n",
       " 'within',\n",
       " 'kirby',\n",
       " 'exists',\n",
       " 'an',\n",
       " 'entire',\n",
       " 'other',\n",
       " 'dimension',\n",
       " '.',\n",
       " 'this',\n",
       " 'explains',\n",
       " 'how',\n",
       " 'the',\n",
       " 'inhale',\n",
       " 'ability',\n",
       " 'works',\n",
       " '-',\n",
       " 'the',\n",
       " 'massive',\n",
       " 'galaxy',\n",
       " 'inside',\n",
       " 'him',\n",
       " 'creates',\n",
       " 'a',\n",
       " 'vortex',\n",
       " 'when',\n",
       " 'he',\n",
       " 'opens',\n",
       " 'his',\n",
       " 'mouth',\n",
       " ',',\n",
       " 'thus',\n",
       " 'allowing',\n",
       " 'for',\n",
       " 'kirby',\n",
       " \"'s\",\n",
       " 'incredible',\n",
       " 'suction',\n",
       " 'power.from',\n",
       " 'redditor',\n",
       " '/u/tveye',\n",
       " ':',\n",
       " 'we',\n",
       " 'all',\n",
       " 'know',\n",
       " 'that',\n",
       " 'meta',\n",
       " 'knight',\n",
       " 'and',\n",
       " 'kirby',\n",
       " 'are',\n",
       " 'the',\n",
       " 'same',\n",
       " 'species',\n",
       " '.',\n",
       " 'what',\n",
       " 'if',\n",
       " 'the',\n",
       " 'reason',\n",
       " 'kirby',\n",
       " 'can',\n",
       " 'copy',\n",
       " 'abilities',\n",
       " 'is',\n",
       " 'because',\n",
       " 'he',\n",
       " '’',\n",
       " 's',\n",
       " 'so',\n",
       " 'young',\n",
       " 'and',\n",
       " 'he',\n",
       " '’',\n",
       " 's',\n",
       " 'learning',\n",
       " 'his',\n",
       " 'place',\n",
       " 'in',\n",
       " 'the',\n",
       " 'world',\n",
       " '?',\n",
       " 'sort',\n",
       " 'of',\n",
       " 'like',\n",
       " 'the',\n",
       " 'explanation',\n",
       " 'for',\n",
       " 'why',\n",
       " 'jack-jack',\n",
       " 'has',\n",
       " 'a',\n",
       " 'ton',\n",
       " 'of',\n",
       " 'superpowers',\n",
       " 'in',\n",
       " 'the',\n",
       " 'incredibles',\n",
       " ',',\n",
       " 'kirby',\n",
       " 'is',\n",
       " 'the',\n",
       " 'same',\n",
       " 'way.meta',\n",
       " 'knight',\n",
       " 'settled',\n",
       " 'on',\n",
       " 'the',\n",
       " 'sword',\n",
       " 'ability',\n",
       " 'and',\n",
       " 'got',\n",
       " 'better',\n",
       " 'and',\n",
       " 'better',\n",
       " 'at',\n",
       " 'using',\n",
       " 'it',\n",
       " '.',\n",
       " 'when',\n",
       " 'kirby',\n",
       " 'grows',\n",
       " 'up',\n",
       " ',',\n",
       " 'he',\n",
       " 'might',\n",
       " 'also',\n",
       " 'settle',\n",
       " 'on',\n",
       " 'one',\n",
       " 'specific',\n",
       " 'ability.alternatively',\n",
       " ',',\n",
       " 'meta',\n",
       " 'knight',\n",
       " 'can',\n",
       " 'also',\n",
       " 'copy',\n",
       " 'abilities',\n",
       " 'and',\n",
       " 'he',\n",
       " 'just',\n",
       " 'doesn',\n",
       " '’',\n",
       " 't',\n",
       " 'want',\n",
       " 'to',\n",
       " '.',\n",
       " 'the',\n",
       " 'reason',\n",
       " 'he',\n",
       " 'looks',\n",
       " 'exactly',\n",
       " 'like',\n",
       " 'kirby',\n",
       " 'is',\n",
       " 'because',\n",
       " 'he',\n",
       " '’',\n",
       " 's',\n",
       " 'actually',\n",
       " 'the',\n",
       " 'same',\n",
       " 'age',\n",
       " ',',\n",
       " 'but',\n",
       " 'wears',\n",
       " 'the',\n",
       " 'mask',\n",
       " 'because',\n",
       " 'he',\n",
       " 'wants',\n",
       " 'to',\n",
       " 'appear',\n",
       " 'more',\n",
       " 'grown',\n",
       " 'up',\n",
       " '.']"
      ]
     },
     "execution_count": 194,
     "metadata": {
     },
     "output_type": "execute_result"
    }
   ],
   "source": [
    "'''\n",
    "Your code here: Tokenize the words from the data and set it to a variable called words.\n",
    "Hint: how to this might be on the very home page of NLTK!\n",
    "'''\n",
    "import nltk\n",
    "words = nltk.word_tokenize(text)\n",
    "words"
   ]
  },
  {
   "cell_type": "code",
   "execution_count": 195,
   "metadata": {
    "collapsed": false
   },
   "outputs": [
    {
     "name": "stdout",
     "output_type": "stream",
     "text": [
      "['even', 'among', 'the', 'typically', 'lighthearted', 'and', 'adorable', 'world', 'of', 'nintendo']\n"
     ]
    }
   ],
   "source": [
    "print(words[:10])"
   ]
  },
  {
   "cell_type": "code",
   "execution_count": 196,
   "metadata": {
    "collapsed": false
   },
   "outputs": [
    {
     "data": {
      "text/plain": [
       "['even among the typically lighthearted and adorable world of nintendo, kirby stands out as one of the most innocuous characters and series.',\n",
       " \"but if you dig a little deeper and consider a few fan theories about kirby, you start to realize there's more to the pink than you think.for one thing, kirby stands as the only character - nintendo or otherwise - who survives the world of light attack in smash bros ultimate, suggesting he could possess more power and/or significance than many might assume.\",\n",
       " 'many kirby fan theories also posit the pink hero is actually a nefarious character with mean streak hidden behind his squishy exterior.',\n",
       " \"as with most video game fan theories, plenty of the best suppositions hold enough water to be considered very likely possibilities.it's time to make a return to dreamland and find out how much of a nightmare it may be.from redditor /u/bulbmin :this is not me saying, this is sakurai’s word.\",\n",
       " 'i originally thought it was just bias because sakurai is the creator of kirby, but it turns out he actually knows quite a bit of the power scaling lore of the characters.he says that kirby’s warp star is able to defy physics and warp outside of galaxies since the first game, which is something that funnily enough i don’t remember ever being confirmed before.',\n",
       " 'i mean, it’s obviously in the name, but all of the warp star speed feats just show it moving really fast rather than warping.',\n",
       " 'since sakurai is the creator of the series, that’s a source as reliable as possible.',\n",
       " 'so not only the warp star moves ftl, but it’s also able to make instant travel.',\n",
       " 'neat.another interesting thing he says is that the other two contenders for survivability were bayonetta and palutena.',\n",
       " 'he says that bayonetta could escape with help of the enemies from the purgatorio, while palutena could survive with the help of hades.',\n",
       " 'not sure how those methods would work since i’ve never played the games, so someone with better knowledge could evaluate that.',\n",
       " 'that means rosalina couldn’t escape the attack, so the launch stars aren’t able to send targets outside of galaxies.',\n",
       " 'and of course, everyone else is toast too.the fifth level of kirby and the crystal shards takes the protagonist to shiver star.',\n",
       " 'on its surface, shiver star features the expected snow and ice, but kirby only spends a little time there before descending into the planet.',\n",
       " 'within the planet, kirby comes across large, autonomous factories as well as a shopping mall, though no one appears to be operating or inhabiting these areas sans your expected monsters.',\n",
       " 'as he passes through the factory levels, kirby comes across pictures of animals from earth.the geography of shiver star closely resembles that of earth, albeit in gray and white, and fans suggest the icy layers are the result of a nuclear winter.',\n",
       " \"if this is the case, it means kirby not only takes place in the real world, but it's also many millennia after humans have died out.kirby is most famous for his inhale ability, allowing him to consume nearly limitless amounts of food and foes and even copy their abilities.\",\n",
       " 'because of this, some theorize within kirby exists an entire other dimension.',\n",
       " \"this explains how the inhale ability works - the massive galaxy inside him creates a vortex when he opens his mouth, thus allowing for kirby's incredible suction power.from redditor /u/tveye :we all know that meta knight and kirby are the same species.\",\n",
       " 'what if the reason kirby can copy abilities is because he’s so young and he’s learning his place in the world?',\n",
       " 'sort of like the explanation for why jack-jack has a ton of superpowers in the incredibles, kirby is the same way.meta knight settled on the sword ability and got better and better at using it.',\n",
       " 'when kirby grows up, he might also settle on one specific ability.alternatively, meta knight can also copy abilities and he just doesn’t want to.',\n",
       " 'the reason he looks exactly like kirby is because he’s actually the same age, but wears the mask because he wants to appear more grown up.']"
      ]
     },
     "execution_count": 196,
     "metadata": {
     },
     "output_type": "execute_result"
    }
   ],
   "source": [
    "'''\n",
    "Your code here: Tokenize the sentences from the data  and set it to a variable called sentences.\n",
    "Hint: try googling how to tokenize sentences in NLTK!\n",
    "'''\n",
    "import nltk\n",
    "paragraph = \"Tokenization is the process by which a large quantity of text is divided into smaller parts called tokens. These tokens are very useful for finding patterns and are considered as a base step for stemming and lemmatization. Tokenization also helps to substitute sensitive data elements with non-sensitive data elements.\"\n",
    "# sentences = nltk.sent_tokenize(paragraph)\n",
    "sentences = nltk.sent_tokenize(text)\n",
    "sentences"
   ]
  },
  {
   "cell_type": "code",
   "execution_count": 197,
   "metadata": {
    "collapsed": false
   },
   "outputs": [
    {
     "name": "stdout",
     "output_type": "stream",
     "text": [
      "['even among the typically lighthearted and adorable world of nintendo, kirby stands out as one of the most innocuous characters and series.', \"but if you dig a little deeper and consider a few fan theories about kirby, you start to realize there's more to the pink than you think.for one thing, kirby stands as the only character - nintendo or otherwise - who survives the world of light attack in smash bros ultimate, suggesting he could possess more power and/or significance than many might assume.\", 'many kirby fan theories also posit the pink hero is actually a nefarious character with mean streak hidden behind his squishy exterior.', \"as with most video game fan theories, plenty of the best suppositions hold enough water to be considered very likely possibilities.it's time to make a return to dreamland and find out how much of a nightmare it may be.from redditor /u/bulbmin :this is not me saying, this is sakurai’s word.\", 'i originally thought it was just bias because sakurai is the creator of kirby, but it turns out he actually knows quite a bit of the power scaling lore of the characters.he says that kirby’s warp star is able to defy physics and warp outside of galaxies since the first game, which is something that funnily enough i don’t remember ever being confirmed before.', 'i mean, it’s obviously in the name, but all of the warp star speed feats just show it moving really fast rather than warping.', 'since sakurai is the creator of the series, that’s a source as reliable as possible.', 'so not only the warp star moves ftl, but it’s also able to make instant travel.', 'neat.another interesting thing he says is that the other two contenders for survivability were bayonetta and palutena.', 'he says that bayonetta could escape with help of the enemies from the purgatorio, while palutena could survive with the help of hades.']\n"
     ]
    }
   ],
   "source": [
    "print(sentences[:10])"
   ]
  },
  {
   "cell_type": "markdown",
   "metadata": {
    "collapsed": false
   },
   "source": [
    "## NLP Part 2 - Stopwords and Punctuation\n",
    "Now we are going to work to remove stopwords and punctuation from our data. Why do you think we are going to do this? Do some research if you don't know yet. "
   ]
  },
  {
   "cell_type": "code",
   "execution_count": 198,
   "metadata": {
    "collapsed": false
   },
   "outputs": [
    {
     "name": "stderr",
     "output_type": "stream",
     "text": [
      "[nltk_data] Downloading package stopwords to /projects/f383c9fb-5c0c-4\n",
      "[nltk_data]     483-b8ae-54082ad4cf54/nltk_data...\n",
      "[nltk_data]   Package stopwords is already up-to-date!\n"
     ]
    }
   ],
   "source": [
    "nltk.download('stopwords')\n",
    "from nltk.corpus import stopwords"
   ]
  },
  {
   "cell_type": "code",
   "execution_count": 199,
   "metadata": {
    "collapsed": false,
    "scrolled": true
   },
   "outputs": [
    {
     "name": "stdout",
     "output_type": "stream",
     "text": [
      "['even', 'among', 'typically', 'lighthearted', 'adorable', 'world', 'nintendo', ',', 'kirby', 'stands', 'one', 'innocuous', 'characters', 'series', '.', 'dig', 'little', 'deeper', 'consider', 'fan', 'theories', 'kirby', ',', 'start', 'realize', \"'s\", 'pink', 'think.for', 'one', 'thing', ',', 'kirby', 'stands', 'character', '-', 'nintendo', 'otherwise', '-', 'survives', 'world', 'light', 'attack', 'smash', 'bros', 'ultimate', ',', 'suggesting', 'could', 'possess', 'power', 'and/or', 'significance', 'many', 'might', 'assume', '.', 'many', 'kirby', 'fan', 'theories', 'also', 'posit', 'pink', 'hero', 'actually', 'nefarious', 'character', 'mean', 'streak', 'hidden', 'behind', 'squishy', 'exterior', '.', 'video', 'game', 'fan', 'theories', ',', 'plenty', 'best', 'suppositions', 'hold', 'enough', 'water', 'considered', 'likely', 'possibilities.it', \"'s\", 'time', 'make', 'return', 'dreamland', 'find', 'much', 'nightmare', 'may', 'be.from', 'redditor', '/u/bulbmin', ':', 'saying', ',', 'sakurai', '’', 'word', '.', 'originally', 'thought', 'bias', 'sakurai', 'creator', 'kirby', ',', 'turns', 'actually', 'knows', 'quite', 'bit', 'power', 'scaling', 'lore', 'characters.he', 'says', 'kirby', '’', 'warp', 'star', 'able', 'defy', 'physics', 'warp', 'outside', 'galaxies', 'since', 'first', 'game', ',', 'something', 'funnily', 'enough', '’', 'remember', 'ever', 'confirmed', '.', 'mean', ',', '’', 'obviously', 'name', ',', 'warp', 'star', 'speed', 'feats', 'show', 'moving', 'really', 'fast', 'rather', 'warping', '.', 'since', 'sakurai', 'creator', 'series', ',', '’', 'source', 'reliable', 'possible', '.', 'warp', 'star', 'moves', 'ftl', ',', '’', 'also', 'able', 'make', 'instant', 'travel', '.', 'neat.another', 'interesting', 'thing', 'says', 'two', 'contenders', 'survivability', 'bayonetta', 'palutena', '.', 'says', 'bayonetta', 'could', 'escape', 'help', 'enemies', 'purgatorio', ',', 'palutena', 'could', 'survive', 'help', 'hades', '.', 'sure', 'methods', 'would', 'work', 'since', '’', 'never', 'played', 'games', ',', 'someone', 'better', 'knowledge', 'could', 'evaluate', '.', 'means', 'rosalina', '’', 'escape', 'attack', ',', 'launch', 'stars', '’', 'able', 'send', 'targets', 'outside', 'galaxies', '.', 'course', ',', 'everyone', 'else', 'toast', 'too.the', 'fifth', 'level', 'kirby', 'crystal', 'shards', 'takes', 'protagonist', 'shiver', 'star', '.', 'surface', ',', 'shiver', 'star', 'features', 'expected', 'snow', 'ice', ',', 'kirby', 'spends', 'little', 'time', 'descending', 'planet', '.', 'within', 'planet', ',', 'kirby', 'comes', 'across', 'large', ',', 'autonomous', 'factories', 'well', 'shopping', 'mall', ',', 'though', 'one', 'appears', 'operating', 'inhabiting', 'areas', 'sans', 'expected', 'monsters', '.', 'passes', 'factory', 'levels', ',', 'kirby', 'comes', 'across', 'pictures', 'animals', 'earth.the', 'geography', 'shiver', 'star', 'closely', 'resembles', 'earth', ',', 'albeit', 'gray', 'white', ',', 'fans', 'suggest', 'icy', 'layers', 'result', 'nuclear', 'winter', '.', 'case', ',', 'means', 'kirby', 'takes', 'place', 'real', 'world', ',', \"'s\", 'also', 'many', 'millennia', 'humans', 'died', 'out.kirby', 'famous', 'inhale', 'ability', ',', 'allowing', 'consume', 'nearly', 'limitless', 'amounts', 'food', 'foes', 'even', 'copy', 'abilities', '.', ',', 'theorize', 'within', 'kirby', 'exists', 'entire', 'dimension', '.', 'explains', 'inhale', 'ability', 'works', '-', 'massive', 'galaxy', 'inside', 'creates', 'vortex', 'opens', 'mouth', ',', 'thus', 'allowing', 'kirby', \"'s\", 'incredible', 'suction', 'power.from', 'redditor', '/u/tveye', ':', 'know', 'meta', 'knight', 'kirby', 'species', '.', 'reason', 'kirby', 'copy', 'abilities', '’', 'young', '’', 'learning', 'place', 'world', '?', 'sort', 'like', 'explanation', 'jack-jack', 'ton', 'superpowers', 'incredibles', ',', 'kirby', 'way.meta', 'knight', 'settled', 'sword', 'ability', 'got', 'better', 'better', 'using', '.', 'kirby', 'grows', ',', 'might', 'also', 'settle', 'one', 'specific', 'ability.alternatively', ',', 'meta', 'knight', 'also', 'copy', 'abilities', '’', 'want', '.', 'reason', 'looks', 'exactly', 'like', 'kirby', '’', 'actually', 'age', ',', 'wears', 'mask', 'wants', 'appear', 'grown', '.']\n"
     ]
    }
   ],
   "source": [
    "'''\n",
    "define a function called \"remove_stopwords\" that takes in a list of the sentences of the text and returns one that doesn't have any stopwords.\n",
    "'''\n",
    "\n",
    "sentences = nltk.word_tokenize(text)\n",
    "stop_words = set(stopwords.words('english'))\n",
    "filtered_sentence = []\n",
    "def remove_stopwords(sentences):\n",
    "    \n",
    "    ### Some code goes here. Hint: You may have to look up how to remove stopwords in NLTK if you get stuck. ###\n",
    "    for w in sentences:\n",
    "        if w not in stop_words:\n",
    "            words = nltk\n",
    "            filtered_sentence.append(w)\n",
    "\n",
    "###Then actually apply your function###\n",
    "remove_stopwords(sentences)\n",
    "print(filtered_sentence) #Check if it worked correctly. Are all stopwords removed?"
   ]
  },
  {
   "cell_type": "code",
   "execution_count": 219,
   "metadata": {
    "collapsed": false
   },
   "outputs": [
    {
     "name": "stdout",
     "output_type": "stream",
     "text": [
      "['even', 'among', 'typically', 'lighthearted', 'adorable', 'world', 'nintendo', 'kirby', 'stands', 'one', 'innocuous', 'characters', 'series', 'dig', 'little', 'deeper', 'consider', 'fan', 'theories', 'kirby', 'start', 'realize', \"'s\", 'pink', 'think.for', 'one', 'thing', 'kirby', 'stands', 'character', 'nintendo', 'otherwise', 'survives', 'world', 'light', 'attack', 'smash', 'bros', 'ultimate', 'suggesting', 'could', 'possess', 'power', 'and/or', 'significance', 'many', 'might', 'assume', 'many', 'kirby', 'fan', 'theories', 'also', 'posit', 'pink', 'hero', 'actually', 'nefarious', 'character', 'mean', 'streak', 'hidden', 'behind', 'squishy', 'exterior', 'video', 'game', 'fan', 'theories', 'plenty', 'best', 'suppositions', 'hold', 'enough', 'water', 'considered', 'likely', 'possibilities.it', \"'s\", 'time', 'make', 'return', 'dreamland', 'find', 'much', 'nightmare', 'may', 'be.from', 'redditor', '/u/bulbmin', 'saying', 'sakurai', '’', 'word', 'originally', 'thought', 'bias', 'sakurai', 'creator', 'kirby', 'turns', 'actually', 'knows', 'quite', 'bit', 'power', 'scaling', 'lore', 'characters.he', 'says', 'kirby', '’', 'warp', 'star', 'able', 'defy', 'physics', 'warp', 'outside', 'galaxies', 'since', 'first', 'game', 'something', 'funnily', 'enough', '’', 'remember', 'ever', 'confirmed', 'mean', '’', 'obviously', 'name', 'warp', 'star', 'speed', 'feats', 'show', 'moving', 'really', 'fast', 'rather', 'warping', 'since', 'sakurai', 'creator', 'series', '’', 'source', 'reliable', 'possible', 'warp', 'star', 'moves', 'ftl', '’', 'also', 'able', 'make', 'instant', 'travel', 'neat.another', 'interesting', 'thing', 'says', 'two', 'contenders', 'survivability', 'bayonetta', 'palutena', 'says', 'bayonetta', 'could', 'escape', 'help', 'enemies', 'purgatorio', 'palutena', 'could', 'survive', 'help', 'hades', 'sure', 'methods', 'would', 'work', 'since', '’', 'never', 'played', 'games', 'someone', 'better', 'knowledge', 'could', 'evaluate', 'means', 'rosalina', '’']\n"
     ]
    }
   ],
   "source": [
    "'''\n",
    "define a function called \"remove_punctuation\" that removes punctuation from the sentences.\n",
    "'''\n",
    "\n",
    "import string\n",
    "sentences = nltk.word_tokenize(text)\n",
    "stop_words = set(stopwords.words('english'))\n",
    "filtered_sentence = []\n",
    "def remove_punctuation(sentences):\n",
    "    \n",
    "    ### Some code goes here. Hint: Try looking up how to remove stopwords in NLTK if you get stuck. ###\n",
    "    for w in sentences:\n",
    "        if w not in stop_words:\n",
    "            if w not in string.punctuation:\n",
    "                filtered_sentence.append(w)\n",
    "            \n",
    "remove_punctuation(sentences)\n",
    "print(filtered_sentence[:200]) #eliminating all punctuation."
   ]
  },
  {
   "cell_type": "markdown",
   "metadata": {
    "collapsed": false
   },
   "source": [
    "## NLP Part 3a - Stemming the words\n",
    "Stemming is the process of reducing inflected (or sometimes derived) words to their word stem, base or root form. There is an example below!"
   ]
  },
  {
   "cell_type": "code",
   "execution_count": 201,
   "metadata": {
    "collapsed": false
   },
   "outputs": [
    {
     "data": {
      "text/plain": [
       "'troubl'"
      ]
     },
     "execution_count": 201,
     "metadata": {
     },
     "output_type": "execute_result"
    }
   ],
   "source": [
    "from nltk.stem import PorterStemmer\n",
    "\n",
    "stemmer = PorterStemmer()\n",
    "# try each of the words below\n",
    "stemmer.stem('troubled')\n",
    "#stemmer.stem('trouble')\n",
    "#stemmer.stem('troubling')\n",
    "#stemmer.stem('troubles')"
   ]
  },
  {
   "cell_type": "code",
   "execution_count": 202,
   "metadata": {
    "collapsed": false
   },
   "outputs": [
    {
     "name": "stdout",
     "output_type": "stream",
     "text": [
      "['even', 'among', 'typically', 'lighthearted', 'adorable', 'world', 'nintendo', 'kirby', 'stands', 'one', 'innocuous', 'characters', 'series', 'dig', 'little', 'deeper', 'consider', 'fan', 'theories', 'kirby', 'start', 'realize', \"'s\", 'pink', 'think.for', 'one', 'thing', 'kirby', 'stands', 'character', 'nintendo', 'otherwise', 'survives', 'world', 'light', 'attack', 'smash', 'bros', 'ultimate', 'suggesting', 'could', 'possess', 'power', 'and/or', 'significance', 'many', 'might', 'assume', 'many', 'kirby', 'fan', 'theories', 'also', 'posit', 'pink', 'hero', 'actually', 'nefarious', 'character', 'mean', 'streak', 'hidden', 'behind', 'squishy', 'exterior', 'video', 'game', 'fan', 'theories', 'plenty', 'best', 'suppositions', 'hold', 'enough', 'water', 'considered', 'likely', 'possibilities.it', \"'s\", 'time', 'make', 'return', 'dreamland', 'find', 'much', 'nightmare', 'may', 'be.from', 'redditor', '/u/bulbmin', 'saying', 'sakurai', '’', 'word', 'originally', 'thought', 'bias', 'sakurai', 'creator', 'kirby', 'turns', 'actually', 'knows', 'quite', 'bit', 'power', 'scaling', 'lore', 'characters.he', 'says', 'kirby', '’', 'warp', 'star', 'able', 'defy', 'physics', 'warp', 'outside', 'galaxies', 'since', 'first', 'game', 'something', 'funnily', 'enough', '’', 'remember', 'ever', 'confirmed', 'mean', '’', 'obviously', 'name', 'warp', 'star', 'speed', 'feats', 'show', 'moving', 'really', 'fast', 'rather', 'warping', 'since', 'sakurai', 'creator', 'series', '’', 'source', 'reliable', 'possible', 'warp', 'star', 'moves', 'ftl', '’', 'also', 'able', 'make', 'instant', 'travel', 'neat.another', 'interesting', 'thing', 'says', 'two', 'contenders', 'survivability', 'bayonetta', 'palutena', 'says', 'bayonetta', 'could', 'escape', 'help', 'enemies', 'purgatorio', 'palutena', 'could', 'survive', 'help', 'hades', 'sure', 'methods', 'would', 'work', 'since', '’', 'never', 'played', 'games', 'someone', 'better', 'knowledge', 'could', 'evaluate', 'means', 'rosalina', '’']\n"
     ]
    }
   ],
   "source": [
    "'''\n",
    "Your code here:\n",
    "Define a function called \"stem_sentences\" that takes in a list of sentences and returns a list of stemmed sentences.\n",
    "'''\n",
    "from nltk.stem import PorterStemmer\n",
    "\n",
    "stemmer = PorterStemmer()\n",
    "stemmed_list = []\n",
    "def stem_sentences(sentences):\n",
    "    ### Some code goes here. Hint: Try looking up how to stem words in NLTK if you get stuck (or simply use the example above and run stemmer in a loop!). ###\n",
    "    for i in sentences:\n",
    "        stemmed_list.append(stemmer.stem(i))\n",
    "        \n",
    "        \n",
    "stem_sentences(sentences)\n",
    "remove_punctuation(stemmed_list)\n",
    "print(filtered_sentence[:200])"
   ]
  },
  {
   "cell_type": "code",
   "execution_count": 203,
   "metadata": {
    "collapsed": false
   },
   "outputs": [
    {
     "ename": "NameError",
     "evalue": "name 'stemmed_sentences' is not defined",
     "output_type": "error",
     "traceback": [
      "\u001b[0;31m---------------------------------------------------------------------------\u001b[0m",
      "\u001b[0;31mNameError\u001b[0m                                 Traceback (most recent call last)",
      "Input \u001b[0;32mIn [203]\u001b[0m, in \u001b[0;36m<cell line: 1>\u001b[0;34m()\u001b[0m\n\u001b[0;32m----> 1\u001b[0m \u001b[38;5;28mprint\u001b[39m(\u001b[43mstemmed_sentences\u001b[49m[:\u001b[38;5;241m10\u001b[39m])\n",
      "\u001b[0;31mNameError\u001b[0m: name 'stemmed_sentences' is not defined"
     ]
    }
   ],
   "source": [
    "\n",
    "print(stemmed_sentences[:10])"
   ]
  },
  {
   "cell_type": "markdown",
   "metadata": {
    "collapsed": false
   },
   "source": [
    "## NLP Part 3b - Lemmatization\n",
    "Lemmatization considers the context and converts the word to its meaningful base form. There is a cool tutorial and definition of lemmatization in NLTK [here](https://www.geeksforgeeks.org/python-lemmatization-with-nltk/)."
   ]
  },
  {
   "cell_type": "code",
   "execution_count": 204,
   "metadata": {
    "collapsed": false
   },
   "outputs": [
    {
     "name": "stdout",
     "output_type": "stream",
     "text": [
      "['even', 'among', 'typically', 'lighthearted', 'adorable', 'world', 'nintendo', 'kirby', 'stand', 'one', 'innocuous', 'character', 'series', 'dig', 'little', 'deeper', 'consider', 'fan', 'theory', 'kirby', 'start', 'realize', \"'s\", 'pink', 'think.for', 'one', 'thing', 'kirby', 'stand', 'character', 'nintendo', 'otherwise', 'survives', 'world', 'light', 'attack', 'smash', 'bros', 'ultimate', 'suggesting', 'could', 'posse', 'power', 'and/or', 'significance', 'many', 'might', 'assume', 'many', 'kirby', 'fan', 'theory', 'also', 'posit', 'pink', 'hero', 'actually', 'nefarious', 'character', 'mean', 'streak', 'hidden', 'behind', 'squishy', 'exterior', 'video', 'game', 'fan', 'theory', 'plenty', 'best', 'supposition', 'hold', 'enough', 'water', 'considered', 'likely', 'possibilities.it', \"'s\", 'time', 'make', 'return', 'dreamland', 'find', 'much', 'nightmare', 'may', 'be.from', 'redditor', '/u/bulbmin', 'saying', 'sakurai', '’', 'word', 'originally', 'thought', 'bias', 'sakurai', 'creator', 'kirby', 'turn', 'actually', 'know', 'quite', 'bit', 'power', 'scaling', 'lore', 'characters.he', 'say', 'kirby', '’', 'warp', 'star', 'able', 'defy', 'physic', 'warp', 'outside', 'galaxy', 'since', 'first', 'game', 'something', 'funnily', 'enough', '’', 'remember', 'ever', 'confirmed', 'mean', '’', 'obviously', 'name', 'warp', 'star', 'speed', 'feat', 'show', 'moving', 'really', 'fast', 'rather', 'warping', 'since', 'sakurai', 'creator', 'series', '’', 'source', 'reliable', 'possible', 'warp', 'star', 'move', 'ftl', '’', 'also', 'able', 'make', 'instant', 'travel', 'neat.another', 'interesting', 'thing', 'say', 'two', 'contender', 'survivability', 'bayonetta', 'palutena', 'say', 'bayonetta', 'could', 'escape', 'help', 'enemy', 'purgatorio', 'palutena', 'could', 'survive', 'help', 'hades', 'sure', 'method', 'would', 'work', 'since', '’', 'never', 'played', 'game', 'someone', 'better', 'knowledge', 'could', 'evaluate', 'mean', 'rosalina', '’', 'escape', 'attack', 'launch', 'star', '’', 'able', 'send', 'target', 'outside', 'galaxy', 'course', 'everyone', 'else', 'toast', 'too.the', 'fifth', 'level', 'kirby', 'crystal', 'shard', 'take', 'protagonist', 'shiver', 'star', 'surface', 'shiver', 'star', 'feature', 'expected', 'snow', 'ice', 'kirby', 'spends', 'little', 'time', 'descending', 'planet', 'within', 'planet', 'kirby', 'come', 'across', 'large', 'autonomous', 'factory', 'well', 'shopping', 'mall', 'though', 'one', 'appears', 'operating', 'inhabiting', 'area', 'sans', 'expected', 'monster', 'pass', 'factory', 'level', 'kirby', 'come', 'across', 'picture', 'animal', 'earth.the', 'geography', 'shiver', 'star', 'closely', 'resembles', 'earth', 'albeit', 'gray', 'white', 'fan', 'suggest', 'icy', 'layer', 'result', 'nuclear', 'winter', 'case', 'mean', 'kirby', 'take', 'place', 'real', 'world', \"'s\", 'also', 'many', 'millennium', 'human', 'died', 'out.kirby', 'famous', 'inhale', 'ability', 'allowing', 'consume', 'nearly', 'limitless', 'amount', 'food', 'foe', 'even', 'copy', 'ability', 'theorize', 'within', 'kirby', 'exists', 'entire', 'dimension', 'explains', 'inhale', 'ability', 'work', 'massive', 'galaxy', 'inside', 'creates', 'vortex', 'open', 'mouth', 'thus', 'allowing', 'kirby', \"'s\", 'incredible', 'suction', 'power.from', 'redditor', '/u/tveye', 'know', 'meta', 'knight', 'kirby', 'specie', 'reason', 'kirby', 'copy', 'ability', '’', 'young', '’', 'learning', 'place', 'world', 'sort', 'like', 'explanation', 'jack-jack', 'ton', 'superpower', 'incredibles', 'kirby', 'way.meta', 'knight', 'settled', 'sword', 'ability', 'got', 'better', 'better', 'using', 'kirby', 'grows', 'might', 'also', 'settle', 'one', 'specific', 'ability.alternatively', 'meta', 'knight', 'also', 'copy', 'ability', '’', 'want', 'reason', 'look', 'exactly', 'like', 'kirby', '’', 'actually', 'age', 'wear', 'mask', 'want', 'appear', 'grown', 'even', 'among', 'typic', 'lightheart', 'ador', 'world', 'nintendo', 'kirbi', 'stand', 'one', 'innocu', 'charact', 'seri', 'dig', 'littl', 'deeper', 'consid', 'fan', 'theori', 'kirbi', 'start', 'realiz', \"'s\", 'pink', 'think.for', 'one', 'thing', 'kirbi', 'stand', 'onli', 'charact', 'nintendo', 'otherwis', 'surviv', 'world', 'light', 'attack', 'smash', 'bro', 'ultim', 'suggest', 'could', 'posse', 'power', 'and/or', 'signific', 'mani', 'might', 'assum', 'mani', 'kirbi', 'fan', 'theori', 'also', 'posit', 'pink', 'hero', 'actual', 'nefari', 'charact', 'mean', 'streak', 'hidden', 'behind', 'hi', 'squishi', 'exterior', 'video', 'game', 'fan', 'theori', 'plenti', 'best', 'supposit', 'hold', 'enough', 'water', 'consid', 'veri', 'like', 'possibilities.it', \"'s\", 'time', 'make', 'return', 'dreamland', 'find', 'much', 'nightmar', 'may', 'be.from', 'redditor', '/u/bulbmin', 'thi', 'say', 'thi', 'sakurai', '’', 'word', 'origin', 'thought', 'wa', 'bia', 'becaus', 'sakurai', 'creator', 'kirbi', 'turn', 'actual', 'know', 'quit', 'bit', 'power', 'scale', 'lore', 'characters.h', 'say', 'kirbi', '’', 'warp', 'star', 'abl', 'defi', 'physic', 'warp', 'outsid', 'galaxi', 'sinc', 'first', 'game', 'someth', 'funnili', 'enough', '’', 'rememb', 'ever', 'confirm', 'befor', 'mean', '’', 'obvious', 'name', 'warp', 'star', 'speed', 'feat', 'show', 'move', 'realli', 'fast', 'rather', 'warp', 'sinc', 'sakurai', 'creator', 'seri', '’', 'sourc', 'reliabl', 'possibl', 'onli', 'warp', 'star', 'move', 'ftl', '’', 'also', 'abl', 'make', 'instant', 'travel', 'neat.anoth', 'interest', 'thing', 'say', 'two', 'contend', 'surviv', 'bayonetta', 'palutena', 'say', 'bayonetta', 'could', 'escap', 'help', 'enemi', 'purgatorio', 'palutena', 'could', 'surviv', 'help', 'hade', 'sure', 'method', 'would', 'work', 'sinc', '’', 'never', 'play', 'game', 'someon', 'better', 'knowledg', 'could', 'evalu', 'mean', 'rosalina', '’', 'escap', 'attack', 'launch', 'star', '’', 'abl', 'send', 'target', 'outsid', 'galaxi', 'cours', 'everyon', 'el', 'toast', 'too.th', 'fifth', 'level', 'kirbi', 'crystal', 'shard', 'take', 'protagonist', 'shiver', 'star', 'surfac', 'shiver', 'star', 'featur', 'expect', 'snow', 'ice', 'kirbi', 'onli', 'spend', 'littl', 'time', 'befor', 'descend', 'planet', 'within', 'planet', 'kirbi', 'come', 'across', 'larg', 'autonom', 'factori', 'well', 'shop', 'mall', 'though', 'one', 'appear', 'oper', 'inhabit', 'area', 'san', 'expect', 'monster', 'pas', 'factori', 'level', 'kirbi', 'come', 'across', 'pictur', 'anim', 'earth.th', 'geographi', 'shiver', 'star', 'close', 'resembl', 'earth', 'albeit', 'gray', 'white', 'fan', 'suggest', 'ici', 'layer', 'result', 'nuclear', 'winter', 'thi', 'case', 'mean', 'kirbi', 'onli', 'take', 'place', 'real', 'world', \"'s\", 'also', 'mani', 'millennium', 'human', 'die', 'out.kirbi', 'famou', 'hi', 'inhal', 'abil', 'allow', 'consum', 'nearli', 'limitless', 'amount', 'food', 'foe', 'even', 'copi', 'abil', 'becaus', 'thi', 'theoriz', 'within', 'kirbi', 'exist', 'entir', 'dimens', 'thi', 'explain', 'inhal', 'abil', 'work', 'massiv', 'galaxi', 'insid', 'creat', 'vortex', 'open', 'hi', 'mouth', 'thu', 'allow', 'kirbi', \"'s\", 'incred', 'suction', 'power.from', 'redditor', '/u/tvey', 'know', 'meta', 'knight', 'kirbi', 'speci', 'reason', 'kirbi', 'copi', 'abil', 'becaus', '’', 'young', '’', 'learn', 'hi', 'place', 'world', 'sort', 'like', 'explan', 'whi', 'jack-jack', 'ha', 'ton', 'superpow', 'incred', 'kirbi', 'way.meta', 'knight', 'settl', 'sword', 'abil', 'got', 'better', 'better', 'use', 'kirbi', 'grow', 'might', 'also', 'settl', 'one', 'specif', 'ability.altern', 'meta', 'knight', 'also', 'copi', 'abil', '’', 'want', 'reason', 'look', 'exactli', 'like', 'kirbi', 'becaus', '’', 'actual', 'age', 'wear', 'mask', 'becaus', 'want', 'appear', 'grown']\n"
     ]
    }
   ],
   "source": [
    "from nltk.stem import WordNetLemmatizer\n",
    "    \n",
    "## Step 1: Import the lemmatizer\n",
    "lemmatizer = WordNetLemmatizer()\n",
    "\n",
    "'''\n",
    "Your code here: Define a function called \"lem_sentences\" that: loops through the sentences, split the sentences up by words and applies \"lemmatizer.lemmatize\" to each word and then join everything back into a sentence\n",
    "'''\n",
    "lemmenized_list = []\n",
    "##Similar to stopwords: For loop through the sentences, split by words and apply \"lemmatizer.lemmatize\" to each word and join back into a sentence\n",
    "def lem_sentences(sentences):\n",
    "    for i in sentences:\n",
    "        lemmenized_list.append(lemmatizer.lemmatize(i))\n",
    "lem_sentences(filtered_sentence)\n",
    "print(lemmenized_list)"
   ]
  },
  {
   "cell_type": "code",
   "execution_count": 205,
   "metadata": {
    "collapsed": false
   },
   "outputs": [
    {
     "name": "stdout",
     "output_type": "stream",
     "text": [
      "['even', 'among', 'the', 'typically', 'lighthearted', 'and', 'adorable', 'world', 'of', 'nintendo']\n"
     ]
    }
   ],
   "source": [
    "print(sentences[:10]) "
   ]
  },
  {
   "cell_type": "markdown",
   "metadata": {
    "collapsed": false
   },
   "source": [
    "## NLP Part 4 - POS Tagging\n",
    "Parts of speech tagging is marking up a word in a text as corresponding to a particular part of speech, based on both its definition and its context."
   ]
  },
  {
   "cell_type": "code",
   "execution_count": 206,
   "metadata": {
    "collapsed": false
   },
   "outputs": [
    {
     "name": "stderr",
     "output_type": "stream",
     "text": [
      "[nltk_data] Downloading package averaged_perceptron_tagger to /project\n",
      "[nltk_data]     s/f383c9fb-5c0c-4483-b8ae-54082ad4cf54/nltk_data...\n",
      "[nltk_data]   Package averaged_perceptron_tagger is already up-to-\n",
      "[nltk_data]       date!\n"
     ]
    },
    {
     "data": {
      "text/plain": [
       "True"
      ]
     },
     "execution_count": 206,
     "metadata": {
     },
     "output_type": "execute_result"
    }
   ],
   "source": [
    "nltk.download('averaged_perceptron_tagger')"
   ]
  },
  {
   "cell_type": "code",
   "execution_count": 207,
   "metadata": {
    "collapsed": false
   },
   "outputs": [
    {
     "name": "stdout",
     "output_type": "stream",
     "text": [
      "even_RB among_IN the_DT typically_RB lighthearted_VBN and_CC adorable_JJ world_NN of_IN nintendo_NN ,_, kirby_VB stands_VBZ out_RP as_IN one_CD of_IN the_DT most_RBS innocuous_JJ characters_NNS and_CC series_NN ._. but_CC if_IN you_PRP dig_VBP a_DT little_JJ deeper_NN and_CC consider_VB a_DT few_JJ fan_NN theories_NNS about_IN kirby_NN ,_, you_PRP start_VBP to_TO realize_VB there_EX 's_VBZ more_JJR to_TO the_DT pink_NN than_IN you_PRP think.for_VBP one_CD thing_NN ,_, kirby_VB stands_NNS as_IN the_DT only_JJ character_NN -_: nintendo_NN or_CC otherwise_RB -_: who_WP survives_VBZ the_DT world_NN of_IN light_JJ attack_NN in_IN smash_NN bros_NN ultimate_NN ,_, suggesting_VBG he_PRP could_MD possess_VB more_JJR power_NN and/or_NN significance_NN than_IN many_JJ might_MD assume_VB ._. many_JJ kirby_JJ fan_NN theories_NNS also_RB posit_VBP the_DT pink_NN hero_NN is_VBZ actually_RB a_DT nefarious_JJ character_NN with_IN mean_JJ streak_NN hidden_NN behind_IN his_PRP$ squishy_JJ exterior_RB ._.\n"
     ]
    }
   ],
   "source": [
    "# POS Tagging example\n",
    "# CC - coordinating conjunction\n",
    "# NN - noun, singular (cat, tree)\n",
    "all_words = nltk.word_tokenize(text)  ###If we want to look at part of speech taking before we stem/lem\n",
    "\n",
    "tagged_words = nltk.pos_tag(all_words)\n",
    "##Creates a list of lists where each element of the list is [word,partofspeech abbreviation]\n",
    "\n",
    "# Tagged word paragraph\n",
    "word_tags = []\n",
    "for tw in tagged_words:\n",
    "    word_tags.append(tw[0]+\"_\"+tw[1])\n",
    "\n",
    "tagged_paragraph = ' '.join(word_tags)\n",
    "\n",
    "'''\n",
    "Your code here: print the first 1000 characters of tagged_paragraph.\n",
    "'''\n",
    "print(tagged_paragraph[:1000])"
   ]
  },
  {
   "cell_type": "markdown",
   "metadata": {
    "collapsed": false
   },
   "source": [
    "# Word2Vec Model Visualization"
   ]
  },
  {
   "cell_type": "code",
   "execution_count": 208,
   "metadata": {
    "collapsed": false
   },
   "outputs": [
    {
     "name": "stderr",
     "output_type": "stream",
     "text": [
      "[nltk_data] Downloading package punkt to /projects/f383c9fb-5c0c-4483-\n",
      "[nltk_data]     b8ae-54082ad4cf54/nltk_data...\n",
      "[nltk_data]   Package punkt is already up-to-date!\n"
     ]
    }
   ],
   "source": [
    "# Install gensim - pip install gensim\n",
    "import nltk\n",
    "from gensim.models import Word2Vec\n",
    "import matplotlib.pyplot as plt\n",
    "nltk.download('punkt')\n",
    "from wordcloud import WordCloud"
   ]
  },
  {
   "cell_type": "code",
   "execution_count": 209,
   "metadata": {
    "collapsed": false
   },
   "outputs": [
   ],
   "source": [
    "#Let's go ahead and create a list that's formatted how word2vec needs:\n",
    "    # a list of lists where the ith entry in the list is the word tokenizaiton of the ith sentence (after preprocessing)"
   ]
  },
  {
   "cell_type": "code",
   "execution_count": 210,
   "metadata": {
    "collapsed": false
   },
   "outputs": [
   ],
   "source": [
    "test_sample = ['a','b','c','d']\n",
    "list_of_list = [['me','you','him','her'],['aryan','them','the boy','the girl']]"
   ]
  },
  {
   "cell_type": "markdown",
   "metadata": {
    "collapsed": false
   },
   "source": [
    "## Training the Word2Vec model\n",
    "\n",
    "For this part you may want to follow a guide [here](https://radimrehurek.com/gensim/models/word2vec.html). \n",
    "\n"
   ]
  },
  {
   "cell_type": "code",
   "execution_count": 221,
   "metadata": {
    "collapsed": false,
    "scrolled": true
   },
   "outputs": [
    {
     "name": "stdout",
     "output_type": "stream",
     "text": [
      "['the', ',', 'of', '.', 'kirby', 'and', 'is', '’', 'to', 'he', 'a', 'it', 'that', 'as', 's', 'but', 'in', 'star', 'also', 'with', 'because', 'this', 'only', 'for', 'could', 'so', 't', 'not', 'one', 'his', 'i', \"'s\", 'world', 'warp', 'abilities', 'copy', 'just', 'out', 'how', 'since', 'ability', 'says', 'if', 'sakurai', 'you', '-', 'many', 'on', 'fan', 'theories', 'shiver', 'more', 'than', 'better', 'actually', 'same', 'most', 'able', 'knight', 'takes', 'escape', 'other', 'expected', 'all', 'before', 'help', 'galaxies', 'means', 'within', 'planet', 'from', 'outside', 'bayonetta', 'palutena', 'creator', 'attack', 'nintendo', 'stands', 'series', 'little', 'there', 'pink', 'thing', 'character', 'or', 'power', ':', 'might', 'mean', 'across', 'game', 'enough', 'be', 'time', 'make', 'redditor', 'comes', 'even', 'place', 'inhale', 'when', 'up', 'can', 'are', 'meta', 'reason', 'allowing', 'him', 'like', 'considered', 'creates', 'plenty', 'very', 'vortex', 'hold', 'likely', 'suppositions', 'best', 'possibilities.it', 'water', 'resembles', 'video', 'galaxy', 'exterior', 'squishy', 'opens', 'behind', 'hidden', 'streak', 'mouth', 'thus', 'nefarious', 'incredible', 'inside', 'find', 'return', 'dreamland', 'quite', 'knows', 'turns', 'amounts', 'food', 'bias', 'foes', 'was', 'thought', 'originally', 'their', 'word', 'some', 'theorize', 'exists', 'saying', 'me', 'an', 'entire', 'dimension', '/u/bulbmin', 'explains', 'be.from', 'may', 'works', 'nightmare', 'much', 'massive', 'hero', 'suction', '/u/tveye', 'posit', 'settle', 'few', 'consider', 'deeper', 'way.meta', 'settled', 'dig', 'sword', 'got', 'at', 'using', 'grows', 'characters', 'innocuous', 'specific', 'superpowers', 'ability.alternatively', 'doesn', 'want', 'looks', 'exactly', 'age', 'wears', 'adorable', 'mask', 'lighthearted', 'typically', 'wants', 'among', 'incredibles', 'about', 'power.from', 'light', 'assume', 'scaling', 'we', 'significance', 'and/or', 'know', 'possess', 'species', 'suggesting', 'ultimate', 'bros', 'smash', 'what', 'survives', 'start', 'who', 'otherwise', 'young', 'learning', '?', 'sort', 'think.for', 'explanation', 'why', 'jack-jack', 'has', 'realize', 'ton', 'bit', 'limitless', 'lore', 'too.the', 'snow', 'fans', 'features', 'surface', 'its', 'suggest', 'icy', 'protagonist', 'layers', 'shards', 'crystal', 'level', 'fifth', 'toast', 'spends', 'else', 'everyone', 'course', 'targets', 'send', 'aren', 'stars', 'launch', 'couldn', 'rosalina', 'evaluate', 'knowledge', 'result', 'ice', 'descending', 'games', 'inhabiting', 'geography', 'earth.the', 'animals', 'pictures', 'levels', 'factory', 'through', 'passes', 'monsters', 'your', 'sans', 'areas', 'these', 'operating', 'into', 'appears', 'no', 'though', 'mall', 'shopping', 'well', 'factories', 'autonomous', 'large', 'earth', 'albeit', 'gray', 'white', 'someone', 'played', 'characters.he', 'ever', 'rather', 'fast', 'really', 'moving', 'show', 'feats', 'speed', 'humans', 'name', 'obviously', 'have', 'confirmed', 'being', 'remember', 'source', 'died', 'don', 'funnily', 'something', 'which', 'first', 'out.kirby', 'famous', 'physics', 'defy', 'consume', 'nearly', 'closely', 'warping', 'reliable', 'never', 'case', 've', 'work', 'would', 'methods', 'those', 'sure', 'hades', 'survive', 'while', 'purgatorio', 'nuclear', 'enemies', 'winter', 'appear', 'possible', 'were', 'survivability', 'real', 'contenders', 'two', 'millennia', 'interesting', 'neat.another', 'travel', 'instant', 'ftl', 'moves', 'after', 'grown']\n",
      "['even', 'among', 'typically', 'lighthearted', 'adorable', 'world', 'nintendo', 'kirby', 'stands', 'one', 'innocuous', 'characters', 'series', 'dig', 'little', 'deeper', 'consider', 'fan', 'theories', 'kirby', 'start', 'realize', \"'s\", 'pink', 'think.for', 'one', 'thing', 'kirby', 'stands', 'character', 'nintendo', 'otherwise', 'survives', 'world', 'light', 'attack', 'smash', 'bros', 'ultimate', 'suggesting', 'could', 'possess', 'power', 'and/or', 'significance', 'many', 'might', 'assume', 'many', 'kirby', 'fan', 'theories', 'also', 'posit', 'pink', 'hero', 'actually', 'nefarious', 'character', 'mean', 'streak', 'hidden', 'behind', 'squishy', 'exterior', 'video', 'game', 'fan', 'theories', 'plenty', 'best', 'suppositions', 'hold', 'enough', 'water', 'considered', 'likely', 'possibilities.it', \"'s\", 'time', 'make', 'return', 'dreamland', 'find', 'much', 'nightmare', 'may', 'be.from', 'redditor', '/u/bulbmin', 'saying', 'sakurai', '’', 'word', 'originally', 'thought', 'bias', 'sakurai', 'creator', 'kirby', 'turns', 'actually', 'knows', 'quite', 'bit', 'power', 'scaling', 'lore', 'characters.he', 'says', 'kirby', '’', 'warp', 'star', 'able', 'defy', 'physics', 'warp', 'outside', 'galaxies', 'since', 'first', 'game', 'something', 'funnily', 'enough', '’', 'remember', 'ever', 'confirmed', 'mean', '’', 'obviously', 'name', 'warp', 'star', 'speed', 'feats', 'show', 'moving', 'really', 'fast', 'rather', 'warping', 'since', 'sakurai', 'creator', 'series', '’', 'source', 'reliable', 'possible', 'warp', 'star', 'moves', 'ftl', '’', 'also', 'able', 'make', 'instant', 'travel', 'neat.another', 'interesting', 'thing', 'says', 'two', 'contenders', 'survivability', 'bayonetta', 'palutena', 'says', 'bayonetta', 'could', 'escape', 'help', 'enemies', 'purgatorio', 'palutena', 'could', 'survive', 'help', 'hades', 'sure', 'methods', 'would', 'work', 'since', '’', 'never', 'played', 'games', 'someone', 'better', 'knowledge', 'could', 'evaluate', 'means', 'rosalina', '’', 'escape', 'attack', 'launch', 'stars', '’', 'able', 'send', 'targets', 'outside', 'galaxies', 'course', 'everyone', 'else', 'toast', 'too.the', 'fifth', 'level', 'kirby', 'crystal', 'shards', 'takes', 'protagonist', 'shiver', 'star', 'surface', 'shiver', 'star', 'features', 'expected', 'snow', 'ice', 'kirby', 'spends', 'little', 'time', 'descending', 'planet', 'within', 'planet', 'kirby', 'comes', 'across', 'large', 'autonomous', 'factories', 'well', 'shopping', 'mall', 'though', 'one', 'appears', 'operating', 'inhabiting', 'areas', 'sans', 'expected', 'monsters', 'passes', 'factory', 'levels', 'kirby', 'comes', 'across', 'pictures', 'animals', 'earth.the', 'geography', 'shiver', 'star', 'closely', 'resembles', 'earth', 'albeit', 'gray', 'white', 'fans', 'suggest', 'icy', 'layers', 'result', 'nuclear', 'winter', 'case', 'means', 'kirby', 'takes', 'place', 'real', 'world', \"'s\", 'also', 'many', 'millennia', 'humans', 'died', 'out.kirby', 'famous', 'inhale', 'ability', 'allowing', 'consume', 'nearly', 'limitless', 'amounts', 'food', 'foes', 'even', 'copy', 'abilities', 'theorize', 'within', 'kirby', 'exists', 'entire', 'dimension', 'explains', 'inhale', 'ability', 'works', 'massive', 'galaxy', 'inside', 'creates', 'vortex', 'opens', 'mouth', 'thus', 'allowing', 'kirby', \"'s\", 'incredible', 'suction', 'power.from', 'redditor', '/u/tveye', 'know', 'meta', 'knight', 'kirby', 'species', 'reason', 'kirby', 'copy', 'abilities', '’', 'young', '’', 'learning', 'place', 'world', 'sort', 'like', 'explanation', 'jack-jack', 'ton', 'superpowers', 'incredibles', 'kirby', 'way.meta', 'knight', 'settled', 'sword', 'ability', 'got', 'better', 'better', 'using', 'kirby', 'grows', 'might', 'also', 'settle', 'one', 'specific', 'ability.alternatively', 'meta', 'knight', 'also', 'copy', 'abilities', '’', 'want', 'reason', 'looks', 'exactly', 'like', 'kirby', '’', 'actually', 'age', 'wears', 'mask', 'wants', 'appear', 'grown', 'kirby', '’', 'star', 'also', 'could', 'one', \"'s\", 'world', 'warp', 'abilities', 'copy', 'since', 'ability', 'says', 'sakurai', 'many', 'fan', 'theories', 'shiver', 'better', 'actually', 'able', 'knight', 'takes', 'escape', 'expected', 'help', 'galaxies', 'means', 'within', 'planet', 'outside', 'bayonetta', 'palutena', 'creator', 'attack', 'nintendo', 'stands', 'series', 'little', 'pink', 'thing', 'character', 'power', 'might', 'mean', 'across', 'game', 'enough', 'time', 'make', 'redditor', 'comes', 'even', 'place', 'inhale', 'meta', 'reason', 'allowing', 'like', 'considered', 'creates', 'plenty', 'vortex', 'hold', 'likely', 'suppositions', 'best', 'possibilities.it', 'water', 'resembles', 'video', 'galaxy', 'exterior', 'squishy', 'opens', 'behind', 'hidden', 'streak', 'mouth', 'thus', 'nefarious', 'incredible', 'inside', 'find', 'return', 'dreamland', 'quite', 'knows', 'turns', 'amounts', 'food', 'bias', 'foes', 'thought', 'originally', 'word', 'theorize', 'exists', 'saying', 'entire', 'dimension', '/u/bulbmin', 'explains', 'be.from', 'may', 'works', 'nightmare', 'much', 'massive', 'hero', 'suction', '/u/tveye', 'posit', 'settle', 'consider', 'deeper', 'way.meta', 'settled', 'dig', 'sword', 'got', 'using', 'grows', 'characters', 'innocuous', 'specific', 'superpowers', 'ability.alternatively', 'want', 'looks', 'exactly', 'age', 'wears', 'adorable', 'mask', 'lighthearted', 'typically', 'wants', 'among', 'incredibles', 'power.from', 'light', 'assume', 'scaling', 'significance', 'and/or', 'know', 'possess', 'species', 'suggesting', 'ultimate', 'bros', 'smash', 'survives', 'start', 'otherwise', 'young', 'learning', 'sort', 'think.for', 'explanation', 'jack-jack', 'realize', 'ton', 'bit', 'limitless', 'lore', 'too.the', 'snow', 'fans', 'features', 'surface', 'suggest', 'icy', 'protagonist', 'layers', 'shards', 'crystal', 'level', 'fifth', 'toast', 'spends', 'else', 'everyone', 'course', 'targets', 'send', 'stars', 'launch', 'rosalina', 'evaluate', 'knowledge', 'result', 'ice', 'descending', 'games', 'inhabiting', 'geography', 'earth.the', 'animals', 'pictures', 'levels', 'factory', 'passes', 'monsters', 'sans', 'areas', 'operating', 'appears', 'though', 'mall', 'shopping', 'well', 'factories', 'autonomous', 'large', 'earth', 'albeit', 'gray', 'white', 'someone', 'played', 'characters.he', 'ever', 'rather', 'fast', 'really', 'moving', 'show', 'feats', 'speed', 'humans', 'name', 'obviously', 'confirmed', 'remember', 'source', 'died', 'funnily', 'something', 'first', 'out.kirby', 'famous', 'physics', 'defy', 'consume', 'nearly', 'closely', 'warping', 'reliable', 'never', 'case', 'work', 'would', 'methods', 'sure', 'hades', 'survive', 'purgatorio', 'nuclear', 'enemies', 'winter', 'appear', 'possible', 'survivability', 'real', 'contenders', 'two', 'millennia', 'interesting', 'neat.another', 'travel', 'instant', 'ftl', 'moves', 'grown', 'kirby', '’', 'star', 'also', 'could', 'one', \"'s\", 'world', 'warp', 'abilities', 'copy', 'since', 'ability', 'says', 'sakurai', 'many', 'fan', 'theories', 'shiver', 'better', 'actually', 'able', 'knight', 'takes', 'escape', 'expected', 'help', 'galaxies', 'means', 'within', 'planet', 'outside', 'bayonetta', 'palutena', 'creator', 'attack', 'nintendo', 'stands', 'series', 'little', 'pink', 'thing', 'character', 'power', 'might', 'mean', 'across', 'game', 'enough', 'time', 'make', 'redditor', 'comes', 'even', 'place', 'inhale', 'meta', 'reason', 'allowing', 'like', 'considered', 'creates', 'plenty', 'vortex', 'hold', 'likely', 'suppositions', 'best', 'possibilities.it', 'water', 'resembles', 'video', 'galaxy', 'exterior', 'squishy', 'opens', 'behind', 'hidden', 'streak', 'mouth', 'thus', 'nefarious', 'incredible', 'inside', 'find', 'return', 'dreamland', 'quite', 'knows', 'turns', 'amounts', 'food', 'bias', 'foes', 'thought', 'originally', 'word', 'theorize', 'exists', 'saying', 'entire', 'dimension', '/u/bulbmin', 'explains', 'be.from', 'may', 'works', 'nightmare', 'much', 'massive', 'hero', 'suction', '/u/tveye', 'posit', 'settle', 'consider', 'deeper', 'way.meta', 'settled', 'dig', 'sword', 'got', 'using', 'grows', 'characters', 'innocuous', 'specific', 'superpowers', 'ability.alternatively', 'want', 'looks', 'exactly', 'age', 'wears', 'adorable', 'mask', 'lighthearted', 'typically', 'wants', 'among', 'incredibles', 'power.from', 'light', 'assume', 'scaling', 'significance', 'and/or', 'know', 'possess', 'species', 'suggesting', 'ultimate', 'bros', 'smash', 'survives', 'start', 'otherwise', 'young', 'learning', 'sort', 'think.for', 'explanation', 'jack-jack', 'realize', 'ton', 'bit', 'limitless', 'lore', 'too.the', 'snow', 'fans', 'features', 'surface', 'suggest', 'icy', 'protagonist', 'layers', 'shards', 'crystal', 'level', 'fifth', 'toast', 'spends', 'else', 'everyone', 'course', 'targets', 'send', 'stars', 'launch', 'rosalina', 'evaluate', 'knowledge', 'result', 'ice', 'descending', 'games', 'inhabiting', 'geography', 'earth.the', 'animals', 'pictures', 'levels', 'factory', 'passes', 'monsters', 'sans', 'areas', 'operating', 'appears', 'though', 'mall', 'shopping', 'well', 'factories', 'autonomous', 'large', 'earth', 'albeit', 'gray', 'white', 'someone', 'played', 'characters.he', 'ever', 'rather', 'fast', 'really', 'moving', 'show', 'feats', 'speed', 'humans', 'name', 'obviously', 'confirmed', 'remember', 'source', 'died', 'funnily', 'something', 'first', 'out.kirby', 'famous', 'physics', 'defy', 'consume', 'nearly', 'closely', 'warping', 'reliable', 'never', 'case', 'work', 'would', 'methods', 'sure', 'hades', 'survive', 'purgatorio', 'nuclear', 'enemies', 'winter', 'appear', 'possible', 'survivability', 'real', 'contenders', 'two', 'millennia', 'interesting', 'neat.another', 'travel', 'instant', 'ftl', 'moves', 'grown']\n"
     ]
    }
   ],
   "source": [
    "''' Training the Word2Vec model. You should pass:\n",
    "1. a list of lists where the ith entry in the list is the word tokenizaiton of the ith sentence\n",
    "2. min_count=1 --> Ignores all words with total frequency lower than 1 (i.e., include everything).\n",
    "'''\n",
    "# create the model\n",
    "tokenized = nltk.word_tokenize(text)\n",
    "def extractDigits(lst):\n",
    "    return[[el] for el in lst]\n",
    "lst = extractDigits(tokenized)\n",
    "model = Word2Vec(lst, min_count=1)\n",
    "\n",
    "# get the most common words of the model (it's entire vocabulary)\n",
    "top_words = model.wv.index_to_key\n",
    "remove_punctuation(top_words)\n",
    "print(top_words)\n",
    "# save the model to use it later\n",
    "# model = Word2Vec.load(\"word2vec.model\")"
   ]
  },
  {
   "cell_type": "code",
   "execution_count": 222,
   "metadata": {
    "collapsed": false
   },
   "outputs": [
    {
     "name": "stdout",
     "output_type": "stream",
     "text": [
      "['the', ',', 'of', '.', 'kirby', 'and', 'is', '’', 'to', 'he', 'a', 'it', 'that', 'as', 's', 'but', 'in', 'star', 'also', 'with', 'because', 'this', 'only', 'for', 'could', 'so', 't', 'not', 'one', 'his', 'i', \"'s\", 'world', 'warp', 'abilities', 'copy', 'just', 'out', 'how', 'since', 'ability', 'says', 'if', 'sakurai', 'you', '-', 'many', 'on', 'fan', 'theories', 'shiver', 'more', 'than', 'better', 'actually', 'same', 'most', 'able', 'knight', 'takes', 'escape', 'other', 'expected', 'all', 'before', 'help', 'galaxies', 'means', 'within', 'planet', 'from', 'outside', 'bayonetta', 'palutena', 'creator', 'attack', 'nintendo', 'stands', 'series', 'little', 'there', 'pink', 'thing', 'character', 'or', 'power', ':', 'might', 'mean', 'across', 'game', 'enough', 'be', 'time', 'make', 'redditor', 'comes', 'even', 'place', 'inhale', 'when', 'up', 'can', 'are', 'meta', 'reason', 'allowing', 'him', 'like', 'considered', 'creates', 'plenty', 'very', 'vortex', 'hold', 'likely', 'suppositions', 'best', 'possibilities.it', 'water', 'resembles', 'video', 'galaxy', 'exterior', 'squishy', 'opens', 'behind', 'hidden', 'streak', 'mouth', 'thus', 'nefarious', 'incredible', 'inside', 'find', 'return', 'dreamland', 'quite', 'knows', 'turns', 'amounts', 'food', 'bias', 'foes', 'was', 'thought', 'originally', 'their', 'word', 'some', 'theorize', 'exists', 'saying', 'me', 'an', 'entire', 'dimension', '/u/bulbmin', 'explains', 'be.from', 'may', 'works', 'nightmare', 'much', 'massive', 'hero', 'suction', '/u/tveye', 'posit', 'settle', 'few', 'consider', 'deeper', 'way.meta', 'settled', 'dig', 'sword', 'got', 'at', 'using', 'grows', 'characters', 'innocuous', 'specific', 'superpowers', 'ability.alternatively', 'doesn', 'want', 'looks', 'exactly', 'age', 'wears', 'adorable', 'mask', 'lighthearted', 'typically', 'wants', 'among', 'incredibles', 'about', 'power.from', 'light', 'assume', 'scaling', 'we', 'significance', 'and/or', 'know', 'possess', 'species', 'suggesting', 'ultimate', 'bros', 'smash', 'what', 'survives', 'start', 'who', 'otherwise', 'young', 'learning', '?', 'sort', 'think.for', 'explanation', 'why', 'jack-jack', 'has', 'realize', 'ton', 'bit', 'limitless', 'lore', 'too.the', 'snow', 'fans', 'features', 'surface', 'its', 'suggest', 'icy', 'protagonist', 'layers', 'shards', 'crystal', 'level', 'fifth', 'toast', 'spends', 'else', 'everyone', 'course', 'targets', 'send', 'aren', 'stars', 'launch', 'couldn', 'rosalina', 'evaluate', 'knowledge', 'result', 'ice', 'descending', 'games', 'inhabiting', 'geography', 'earth.the', 'animals', 'pictures', 'levels', 'factory', 'through', 'passes', 'monsters', 'your', 'sans', 'areas', 'these', 'operating', 'into', 'appears', 'no', 'though', 'mall', 'shopping', 'well', 'factories', 'autonomous', 'large', 'earth', 'albeit', 'gray', 'white', 'someone', 'played', 'characters.he', 'ever', 'rather', 'fast', 'really', 'moving', 'show', 'feats', 'speed', 'humans', 'name', 'obviously', 'have', 'confirmed', 'being', 'remember', 'source', 'died', 'don', 'funnily', 'something', 'which', 'first', 'out.kirby', 'famous', 'physics', 'defy', 'consume', 'nearly', 'closely', 'warping', 'reliable', 'never', 'case', 've', 'work', 'would', 'methods', 'those', 'sure', 'hades', 'survive', 'while', 'purgatorio', 'nuclear', 'enemies', 'winter', 'appear', 'possible', 'were', 'survivability', 'real', 'contenders', 'two', 'millennia', 'interesting', 'neat.another', 'travel', 'instant', 'ftl', 'moves', 'after', 'grown']\n"
     ]
    }
   ],
   "source": [
    "#print the first 10 most common words.\n",
    "print(top_words)"
   ]
  },
  {
   "cell_type": "code",
   "execution_count": 0,
   "metadata": {
    "collapsed": false
   },
   "outputs": [
   ],
   "source": [
    "# Look up the most similar words to certain words in your text using the model.wv.most_similar() function"
   ]
  },
  {
   "cell_type": "code",
   "execution_count": 0,
   "metadata": {
    "collapsed": false
   },
   "outputs": [
   ],
   "source": [
    "words1 = model.wv.most_similar(\"contemporary\")\n",
    "words2 = model.wv.most_similar(\"climate\")\n",
    "print(words1, \"\\n\\n\", words2)"
   ]
  },
  {
   "cell_type": "markdown",
   "metadata": {
    "collapsed": false
   },
   "source": [
    "## Testing our model"
   ]
  },
  {
   "cell_type": "code",
   "execution_count": 0,
   "metadata": {
    "collapsed": false
   },
   "outputs": [
   ],
   "source": [
    "    # Finding Word Vectors - print word vectors for certain words in your text\n",
    "vec = model.wv[\"change\"]\n",
    "print(vec)"
   ]
  },
  {
   "cell_type": "code",
   "execution_count": 227,
   "metadata": {
    "collapsed": false
   },
   "outputs": [
    {
     "name": "stdout",
     "output_type": "stream",
     "text": [
      "[('remember', 0.32869330048561096), ('or', 0.2698708474636078), ('as', 0.25290459394454956), ('doesn', 0.24194027483463287), ('layers', 0.2168613225221634), ('factory', 0.21634499728679657), ('quite', 0.21424917876720428), ('limitless', 0.2115372121334076), ('bias', 0.20891083776950836), ('think.for', 0.2032136172056198)] \n",
      "\n",
      " [('bayonetta', 0.26792025566101074), ('bros', 0.25211477279663086), ('be.from', 0.23977994918823242), ('word', 0.1984792947769165), ('suggesting', 0.1936066746711731), ('much', 0.1888839304447174), ('able', 0.1883985847234726), ('real', 0.1862282007932663), ('find', 0.18572916090488434), ('galaxy', 0.18403948843479156)]\n"
     ]
    }
   ],
   "source": [
    "    ### Finding the most similar words in the model ###\n",
    "    \n",
    "words1 = model.wv.most_similar(\"kirby\")\n",
    "words2 = model.wv.most_similar(\"pink\")\n",
    "print(words1, \"\\n\\n\", words2)"
   ]
  },
  {
   "cell_type": "code",
   "execution_count": 0,
   "metadata": {
    "collapsed": false
   },
   "outputs": [
   ],
   "source": [
   ]
  },
  {
   "cell_type": "code",
   "execution_count": 0,
   "metadata": {
    "collapsed": false
   },
   "outputs": [
   ],
   "source": [
   ]
  },
  {
   "cell_type": "code",
   "execution_count": 0,
   "metadata": {
    "collapsed": false
   },
   "outputs": [
   ],
   "source": [
   ]
  },
  {
   "cell_type": "code",
   "execution_count": 223,
   "metadata": {
    "collapsed": false
   },
   "outputs": [
    {
     "data": {
      "text/plain": [
       "<Figure size 432x288 with 0 Axes>"
      ]
     },
     "execution_count": 223,
     "metadata": {
     },
     "output_type": "execute_result"
    },
    {
     "data": {
      "image/png": "[encoded data removed]",
      "text/plain": [
       "<Figure size 720x720 with 1 Axes>"
      ]
     },
     "execution_count": 223,
     "metadata": {
      "needs_background": "light"
     },
     "output_type": "execute_result"
    }
   ],
   "source": [
    "# code to print a wordcloud for your sentences\n",
    "wordcloud = WordCloud(\n",
    "                        background_color='white',\n",
    "                        max_words=100,\n",
    "                        max_font_size=50, \n",
    "                        random_state=42\n",
    "                        ).generate(str(lemmenized_list))\n",
    "fig = plt.figure(1)\n",
    "plt.figure(figsize=(10,10))\n",
    "plt.imshow(wordcloud, interpolation=\"bilinear\")\n",
    "plt.axis('off')\n",
    "plt.show()"
   ]
  },
  {
   "cell_type": "markdown",
   "metadata": {
    "collapsed": false
   },
   "source": [
    "### Why did we do all this work?"
   ]
  },
  {
   "cell_type": "code",
   "execution_count": 0,
   "metadata": {
    "collapsed": false
   },
   "outputs": [
   ],
   "source": [
    "# reFetching the data\n",
    "lame_text = \"\"\n",
    "for paragraph in soup.find_all('p'): #The <p> tag defines a paragraph in the webpages\n",
    "    lame_text += paragraph.text"
   ]
  },
  {
   "cell_type": "code",
   "execution_count": 0,
   "metadata": {
    "collapsed": false
   },
   "outputs": [
   ],
   "source": [
    "'''\n",
    "Doing the same without removing stop words or lemming\n",
    "'''\n",
    "# tokenize the text using sent_tokenize\n",
    "\n",
    "# from this list of sentences, create a list of lists where the ith entry in the list is the word tokenizaiton of the ith sentence (after preprocessing)"
   ]
  },
  {
   "cell_type": "code",
   "execution_count": 0,
   "metadata": {
    "collapsed": false
   },
   "outputs": [
   ],
   "source": [
    "# Redo the word cloud but set stopwords to empty so it looks really bad\n",
    "wordcloud = WordCloud(\n",
    "                        background_color='white',\n",
    "                        max_words=100,\n",
    "                        max_font_size=50, \n",
    "                        random_state=42, ###SET STOPWORDS = [] and/or include_numbers = True or you will get the same thing!!!\n",
    "                        stopwords = [],\n",
    "                        include_numbers = True).generate(str(lame_text)) \n",
    "fig = plt.figure(1)\n",
    "plt.figure(figsize=(10,10))\n",
    "plt.imshow(wordcloud, interpolation=\"bilinear\")\n",
    "plt.axis('off')\n",
    "plt.show()"
   ]
  },
  {
   "cell_type": "code",
   "execution_count": 0,
   "metadata": {
    "collapsed": false
   },
   "outputs": [
   ],
   "source": [
    "# Training the Word2Vec model (same code as before), but one change: use our lame data that was not preprocessed\n",
    "\n",
    "# Try printing this after training the model.\n",
    "words = model.wv.index_to_key\n",
    "print(words[:10])"
   ]
  },
  {
   "cell_type": "code",
   "execution_count": 0,
   "metadata": {
    "collapsed": false
   },
   "outputs": [
   ],
   "source": [
    "# Finding a vector of a word, but badly"
   ]
  },
  {
   "cell_type": "code",
   "execution_count": 0,
   "metadata": {
    "collapsed": false
   },
   "outputs": [
   ],
   "source": [
    "### Finding the most similar words in the model but... you get the idea ###\n",
    "\n"
   ]
  },
  {
   "cell_type": "code",
   "execution_count": 0,
   "metadata": {
    "collapsed": false
   },
   "outputs": [
   ],
   "source": [
   ]
  },
  {
   "cell_type": "markdown",
   "metadata": {
    "collapsed": false
   },
   "source": [
    "## Reflection\n",
    "How important do you think proper preprocessing in NLP is?"
   ]
  },
  {
   "cell_type": "markdown",
   "metadata": {
    "collapsed": false
   },
   "source": [
   ]
  }
 ],
 "metadata": {
  "interpreter": {
   "hash": "335ee12212264728feb72f243af72c5a8ea26c832f07e1f651ce9e17c7ceae23"
  },
  "kernelspec": {
   "display_name": "Python (nlp_env)",
   "language": "python",
   "metadata": {
    "debugger": true
   },
   "name": "nlp_env",
   "resource_dir": "/projects/f383c9fb-5c0c-4483-b8ae-54082ad4cf54/.local/share/jupyter/kernels/nlp_env"
  },
  "language_info": {
   "codemirror_mode": {
    "name": "ipython",
    "version": 3
   },
   "file_extension": ".py",
   "mimetype": "text/x-python",
   "name": "python",
   "nbconvert_exporter": "python",
   "pygments_lexer": "ipython3",
   "version": "3.8.13"
  },
  "widgets": {
   "application/vnd.jupyter.widget-state+json": {
    "state": {
    },
    "version_major": 2,
    "version_minor": 0
   }
  }
 },
 "nbformat": 4,
 "nbformat_minor": 4
}